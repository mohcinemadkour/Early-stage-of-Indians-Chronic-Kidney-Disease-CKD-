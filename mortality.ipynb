{
 "cells": [
  {
   "cell_type": "code",
   "execution_count": 1,
   "metadata": {
    "collapsed": true
   },
   "outputs": [],
   "source": [
    "import pandas as pd\n",
    "from datetime import timedelta\n",
    "import pandas as pd\n",
    "import numpy as np\n",
    "from rpy2.robjects import pandas2ri\n",
    "import rpy2.robjects as ro\n",
    "from rpy2.robjects.packages import importr\n",
    "from scipy.stats import f\n",
    "from sklearn import metrics\n",
    "from sklearn.model_selection import KFold\n",
    "import rpy2\n",
    "import numpy as np\n",
    "\n",
    "import os\n",
    "os.chdir(os.getcwd()+\"/../..\")\n",
    "main_folder=os.getcwd()\n",
    "\n",
    "pandas2ri.activate()\n",
    "mgcv = importr('mgcv')\n",
    "VIF=importr('VIF')"
   ]
  },
  {
   "cell_type": "code",
   "execution_count": 2,
   "metadata": {},
   "outputs": [
    {
     "name": "stderr",
     "output_type": "stream",
     "text": [
      "/home/mmadkour/anaconda2/lib/python2.7/site-packages/IPython/core/interactiveshell.py:2718: DtypeWarning: Columns (84) have mixed types. Specify dtype option on import or set low_memory=False.\n",
      "  interactivity=interactivity, compiler=compiler, result=result)\n"
     ]
    }
   ],
   "source": [
    "all_data_encounter=pd.read_csv(main_folder+\"/Supplement data/idealist_encounters.csv\")"
   ]
  },
  {
   "cell_type": "code",
   "execution_count": 3,
   "metadata": {
    "collapsed": true
   },
   "outputs": [],
   "source": [
    "df=pd.read_csv(main_folder+\"/Dev_Cohort/development_cohort_\"+\"cardiovasc_comp_comb\"+\".csv\")"
   ]
  },
  {
   "cell_type": "code",
   "execution_count": 4,
   "metadata": {
    "collapsed": true
   },
   "outputs": [],
   "source": [
    "my_list=list(df[\"encounter_deiden_id\"])"
   ]
  },
  {
   "cell_type": "code",
   "execution_count": 5,
   "metadata": {
    "collapsed": true
   },
   "outputs": [],
   "source": [
    "all_data_encounter=all_data_encounter[all_data_encounter[\"encounter_deiden_id\"].isin(my_list)]"
   ]
  },
  {
   "cell_type": "code",
   "execution_count": 6,
   "metadata": {
    "collapsed": true
   },
   "outputs": [],
   "source": [
    "all_data_encounter[\"death_date\"] = pd.to_datetime(all_data_encounter[\"death_date\"])\n",
    "all_data_encounter[\"admit_datetime\"] = pd.to_datetime(all_data_encounter[\"admit_datetime\"])\n",
    "all_data_encounter['admission_to_death_time']=all_data_encounter[[\"death_date\",\"admit_datetime\"]].apply(lambda x:(x[0]-x[1])/timedelta(days=365.2425) if (x[0]==x[0] and x[1]==x[1]) else None,axis=1)"
   ]
  },
  {
   "cell_type": "code",
   "execution_count": null,
   "metadata": {
    "collapsed": true
   },
   "outputs": [],
   "source": [
    "\n",
    "\n",
    "df2=all_data_encounter[~(all_data_encounter[\"ssdi_death_date\"].isnull())]\n",
    "df3=df2[[\"death_date\",\"ssdi_death_date\"]]"
   ]
  },
  {
   "cell_type": "code",
   "execution_count": null,
   "metadata": {
    "collapsed": true
   },
   "outputs": [],
   "source": [
    "try:\n",
    "    df3[\"death_date\"] = pd.to_datetime(df3[\"death_date\"])\n",
    "except:\n",
    "    print 1"
   ]
  },
  {
   "cell_type": "code",
   "execution_count": null,
   "metadata": {
    "collapsed": true
   },
   "outputs": [],
   "source": [
    "df3.loc[30614,\"death_date\"]=pd.to_datetime(df3.loc[30614,\"death_date\"])"
   ]
  },
  {
   "cell_type": "code",
   "execution_count": null,
   "metadata": {
    "collapsed": true
   },
   "outputs": [],
   "source": [
    "for i in df3.index:\n",
    "    try:\n",
    "        df3.loc[i,\"death_date\"]=pd.to_datetime(df3.loc[i,\"death_date\"])\n",
    "        print type(df3.loc[i,\"death_date\"])\n",
    "    except: \n",
    "        print type(df3.loc[i,\"death_date\"])"
   ]
  },
  {
   "cell_type": "code",
   "execution_count": null,
   "metadata": {
    "collapsed": true
   },
   "outputs": [],
   "source": [
    "df3.size"
   ]
  },
  {
   "cell_type": "code",
   "execution_count": null,
   "metadata": {
    "collapsed": true
   },
   "outputs": [],
   "source": [
    "for i in df3.index:\n",
    "    print type(df3.loc[i,\"death_date\"])\n",
    "    if (str(type(df3.loc[i,\"death_date\"]))==\"<type 'str'>\"):\n",
    "        print 1\n",
    "        df3.drop(i)\n",
    "\n",
    "        "
   ]
  },
  {
   "cell_type": "code",
   "execution_count": null,
   "metadata": {
    "collapsed": true
   },
   "outputs": [],
   "source": [
    "df3"
   ]
  },
  {
   "cell_type": "code",
   "execution_count": null,
   "metadata": {
    "collapsed": true
   },
   "outputs": [],
   "source": [
    "#all_data_encounter[\"ssdi_death_date\"]\n",
    "i=i+20\n",
    "df3.iloc[i:i+20,:]"
   ]
  },
  {
   "cell_type": "code",
   "execution_count": null,
   "metadata": {
    "collapsed": true
   },
   "outputs": [],
   "source": [
    "df3[\"death_date\"]=datetime.Timestamp(df3[\"death_date\"])"
   ]
  },
  {
   "cell_type": "code",
   "execution_count": null,
   "metadata": {
    "collapsed": true
   },
   "outputs": [],
   "source": [
    "import datetime"
   ]
  },
  {
   "cell_type": "code",
   "execution_count": null,
   "metadata": {
    "collapsed": true
   },
   "outputs": [],
   "source": [
    "type(df2.loc[206785,\"ssdi_death_date\"])"
   ]
  },
  {
   "cell_type": "code",
   "execution_count": null,
   "metadata": {
    "collapsed": true
   },
   "outputs": [],
   "source": [
    "(type(df3[\"death_date\"]))\n",
    "for index, row in df3.iterrows():\n",
    "    if (str(type(row[\"death_date\"]))==\"<class 'pandas._libs.tslib.NaTType'>\"):\n",
    "        df3[\"death_date\"]=df3[\"ssdi_death_date\"]\n",
    "        print 1\n",
    "    \n"
   ]
  },
  {
   "cell_type": "code",
   "execution_count": null,
   "metadata": {
    "collapsed": true
   },
   "outputs": [],
   "source": [
    "nat_as_integer = np.datetime64('NAT').view('i8')\n",
    "\n",
    "def isnat(your_datetime):\n",
    "    dtype_string = \"Timestamp\"\n",
    "    if 'datetime64' in dtype_string or 'timedelta64' in dtype_string:\n",
    "        return your_datetime.view('i8') == nat_as_integer\n",
    "    return False  # it can't be a NaT if it's not a dateime"
   ]
  },
  {
   "cell_type": "code",
   "execution_count": null,
   "metadata": {
    "collapsed": true
   },
   "outputs": [],
   "source": []
  },
  {
   "cell_type": "code",
   "execution_count": null,
   "metadata": {
    "collapsed": true
   },
   "outputs": [],
   "source": [
    "df2[[\"death_date\",\"ssdi_death_date\"]]"
   ]
  },
  {
   "cell_type": "code",
   "execution_count": null,
   "metadata": {
    "collapsed": true
   },
   "outputs": [],
   "source": [
    "all_data_encounter=all_data_encounter[[\"encounter_deiden_id\",'admission_to_death_time']]"
   ]
  },
  {
   "cell_type": "code",
   "execution_count": null,
   "metadata": {
    "collapsed": true
   },
   "outputs": [],
   "source": [
    "df=all_data_encounter"
   ]
  },
  {
   "cell_type": "code",
   "execution_count": null,
   "metadata": {
    "collapsed": true
   },
   "outputs": [],
   "source": [
    "df"
   ]
  },
  {
   "cell_type": "code",
   "execution_count": null,
   "metadata": {
    "collapsed": true
   },
   "outputs": [],
   "source": [
    "df[\"mort_status_30d\"]=(df[\"admission_to_death_time\"]<=.085).astype(int)\n",
    "df[\"mort_status_90d\"]=(df[\"admission_to_death_time\"]<=.25).astype(int)\n",
    "df[\"mort_status_6m\"]=(df[\"admission_to_death_time\"]<=.5).astype(int)\n",
    "df[\"mort_status_1y\"]=(df[\"admission_to_death_time\"]<=1).astype(int)\n",
    "df[\"mort_status_2y\"]=(df[\"admission_to_death_time\"]<=2).astype(int)\n",
    "df.to_csv(main_folder+\"/Mortality/mortality_data.csv\")\n",
    "df"
   ]
  },
  {
   "cell_type": "code",
   "execution_count": null,
   "metadata": {
    "collapsed": true
   },
   "outputs": [],
   "source": [
    "statsf = importr('stats',robject_translations = {'format_perc': 'format_dot_perc'})\n",
    "risknames = ['aki_3','aki_7', 'aki_all','MV_duration','cardiovasc_comp_comb', 'ICU_duration', 'neuro_delirium_comb', 'post_op_mech_proc_comb', 'sepsis_comb', 'venos_throm_comb']"
   ]
  },
  {
   "cell_type": "code",
   "execution_count": null,
   "metadata": {
    "collapsed": true
   },
   "outputs": [],
   "source": [
    "\n",
    "for riskname in risknames:\n",
    "    print (\"Model building for\", riskname)\n",
    "    #os.chdir(main_folder+\"/Models/\"+riskname+\" .Rdata\")\n",
    "    ro.globalenv['riskname']=riskname\n",
    "    ro.globalenv['main_folder']=main_folder\n",
    "    ro.r['load'](main_folder+\"/Models/\"+riskname+\" .Rdata\")\n",
    "    best_model_cvcomp=ro.globalenv['best_model']\n",
    "    #os.chdir(main_folder)\n",
    "    #ro.r('load(best_model,file=paste(location,\".Rdata\"))')\n",
    "    #testdata=pd.read_csv(main_folder+\"/Val_Cohort/test_cohort_\"+riskname+\".csv\")\n",
    "    devdata=pd.read_csv(main_folder+\"/Dev_Cohort/development_cohort_\"+riskname+\".csv\")\n",
    "    ro.globalenv['r_df_cvcomp'] = pandas2ri.py2ri(devdata)\n",
    "    r_df_cvcomp=ro.r('r_df_cvcomp')\n",
    "    pred_score_cvcomp=statsf.predict(best_model_cvcomp,r_df_cvcomp, type=\"response\")\n",
    "    devdata.rename(columns={'outcome':riskname}, inplace=True)\n",
    "    devdata[riskname]=pred_score_cvcomp\n",
    "    devdata=devdata[[\"encounter_deiden_id\",riskname]]\n",
    "    df=pd.merge(df,devdata,on=\"encounter_deiden_id\",how=\"outer\")\n",
    "df.to_csv(main_folder+\"/Mortality/idealist_mortality.csv\")"
   ]
  },
  {
   "cell_type": "code",
   "execution_count": null,
   "metadata": {
    "collapsed": true
   },
   "outputs": [],
   "source": [
    "df.to_csv(\"idealist_mortality.csv\")"
   ]
  },
  {
   "cell_type": "code",
   "execution_count": null,
   "metadata": {
    "collapsed": true
   },
   "outputs": [],
   "source": [
    "from sklearn.ensemble import RandomForestClassifier as RFC\n",
    "from sklearn.model_selection  import GridSearchCV \n",
    "from sklearn.externals import joblib"
   ]
  },
  {
   "cell_type": "code",
   "execution_count": null,
   "metadata": {
    "collapsed": true
   },
   "outputs": [],
   "source": [
    "df"
   ]
  },
  {
   "cell_type": "code",
   "execution_count": null,
   "metadata": {
    "collapsed": true
   },
   "outputs": [],
   "source": [
    "df3=df[pd.notnull(df[['aki_all','aki_3','aki_7']]).all(axis=1)]"
   ]
  },
  {
   "cell_type": "code",
   "execution_count": null,
   "metadata": {
    "collapsed": true
   },
   "outputs": [],
   "source": [
    "df3.to_csv(main_folder+\"/Mortality/idealist_mortality2.csv\")"
   ]
  },
  {
   "cell_type": "code",
   "execution_count": null,
   "metadata": {
    "collapsed": true
   },
   "outputs": [],
   "source": [
    "df=pd.read_csv(main_folder+\"/Mortality/idealist_mortality.csv\")"
   ]
  },
  {
   "cell_type": "code",
   "execution_count": null,
   "metadata": {
    "collapsed": true
   },
   "outputs": [],
   "source": [
    "df.shape"
   ]
  },
  {
   "cell_type": "code",
   "execution_count": null,
   "metadata": {
    "collapsed": true
   },
   "outputs": [],
   "source": [
    "def run_rf_model(data, colnames): \n",
    "\n",
    "    Kfold_value=5 #number of folds\n",
    "  \n",
    "    data=data[pd.notnull(data).all(axis=1)]\n",
    "    \n",
    "    features =data[data.columns.difference([colnames])]\n",
    "   \n",
    "    print(\"Running Random_Forest_Classifire\")\n",
    "    clf=RFC(n_jobs=2)\n",
    "    \n",
    "    param_grid={\"n_estimators\"      : [300], #tuning the random forest with these parameters\n",
    "                \"criterion\"         : [\"gini\"],\n",
    "                'max_features': [ 'sqrt', 5],\n",
    "                \"max_depth\"         : [None ]}\n",
    "    grid_search = GridSearchCV(clf, param_grid, scoring='accuracy',n_jobs=2, cv=Kfold_value) #acu metric used to find the best model\n",
    "    grid_search.fit(features, data[colnames])\n",
    "    model=grid_search.best_estimator_\n",
    "    acu=grid_search.best_score_\n",
    "  \n",
    "    return model,acu"
   ]
  },
  {
   "cell_type": "code",
   "execution_count": null,
   "metadata": {
    "collapsed": true
   },
   "outputs": [],
   "source": [
    "models=[\"mort_status_30d\",\"mort_status_90d\",\"mort_status_6m\",\"mort_status_1y\",\"mort_status_2y\"]\n",
    "feature_names= ['cardiovasc_comp_comb','ICU_duration','neuro_delirium_comb','post_op_mech_proc_comb','sepsis_comb',\n",
    "                'venos_throm_comb','aki_all','MV_duration','aki_3','aki_7']\n",
    "for model in models:\n",
    "    mdl,acu=run_rf_model(df[feature_names+[model]],model)\n",
    "    print(\"acu for \"+model+' is: '+str(acu))\n",
    "    joblib.dump(mdl, main_folder+'/M_Models/'+model+'_RandomForestClassifier.pkl')"
   ]
  },
  {
   "cell_type": "code",
   "execution_count": null,
   "metadata": {
    "collapsed": true
   },
   "outputs": [],
   "source": []
  }
 ],
 "metadata": {
  "kernelspec": {
   "display_name": "Python 2",
   "language": "python",
   "name": "python2"
  },
  "language_info": {
   "codemirror_mode": {
    "name": "ipython",
    "version": 2
   },
   "file_extension": ".py",
   "mimetype": "text/x-python",
   "name": "python",
   "nbconvert_exporter": "python",
   "pygments_lexer": "ipython2",
   "version": "2.7.14"
  }
 },
 "nbformat": 4,
 "nbformat_minor": 2
}
