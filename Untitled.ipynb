{
 "cells": [
  {
   "cell_type": "code",
   "execution_count": 1,
   "metadata": {
    "collapsed": true
   },
   "outputs": [],
   "source": [
    "def find_auc(model,data):\n",
    "    ro.globalenv['model']=model\n",
    "    ro.globalenv['test']=data\n",
    "    e=ro.r(\"predict(model,newdata=test,type=\\\"response\\\")\")\n",
    "    \n",
    "    fpr, tpr, thresholds = metrics.roc_curve(data['outcome'], e)\n",
    "    return metrics.auc(fpr, tpr)"
   ]
  },
  {
   "cell_type": "code",
   "execution_count": 4,
   "metadata": {
    "collapsed": false
   },
   "outputs": [],
   "source": [
    "import pandas as pd\n",
    "from datetime import timedelta\n",
    "import pandas as pd\n",
    "import numpy as np\n",
    "from rpy2.robjects import pandas2ri\n",
    "import rpy2.robjects as ro\n",
    "from rpy2.robjects.packages import importr\n",
    "from scipy.stats import f\n",
    "from sklearn import metrics\n",
    "from sklearn.model_selection import KFold\n",
    "import rpy2\n",
    "import numpy as np\n",
    "\n",
    "import os\n",
    "#os.chdir(os.getcwd()+\"/../..\")\n",
    "main_folder=os.getcwd()\n",
    "main_folder=\"S:/2016_223 IDEALIST/ANALYTIC CORE/MySurgeryRisk PreOP V1.1/Development /\"\n",
    "pandas2ri.activate()\n",
    "mgcv = importr('mgcv')\n",
    "VIF=importr('VIF')"
   ]
  },
  {
   "cell_type": "code",
   "execution_count": 5,
   "metadata": {
    "collapsed": true
   },
   "outputs": [],
   "source": [
    "statsf = importr('stats',robject_translations = {'format_perc': 'format_dot_perc'})\n",
    "risknames = [ 'aki_all','MV_duration','cardiovasc_comp_comb', 'ICU_duration', 'neuro_delirium_comb', 'post_op_mech_proc_comb', 'sepsis_comb', 'venos_throm_comb']"
   ]
  },
  {
   "cell_type": "code",
   "execution_count": 6,
   "metadata": {
    "collapsed": false
   },
   "outputs": [
    {
     "name": "stdout",
     "output_type": "stream",
     "text": [
      "(' mortlaility for', 'aki_all')\n",
      "(' mortlaility for', 'MV_duration')\n",
      "(' mortlaility for', 'cardiovasc_comp_comb')\n",
      "(' mortlaility for', 'ICU_duration')\n",
      "(' mortlaility for', 'neuro_delirium_comb')\n",
      "(' mortlaility for', 'post_op_mech_proc_comb')\n",
      "(' mortlaility for', 'sepsis_comb')\n",
      "(' mortlaility for', 'venos_throm_comb')\n"
     ]
    }
   ],
   "source": [
    "df=pd.read_csv(main_folder+\"/Supplement data/mortality_12_12_17.csv\")\n",
    "for riskname in risknames:\n",
    "    print (\" mortlaility for\", riskname)\n",
    "    #os.chdir(main_folder+\"/Models/\"+riskname+\" .Rdata\")\n",
    "    ro.globalenv['riskname']=riskname\n",
    "    ro.globalenv['main_folder']=main_folder\n",
    "    ro.r['load'](main_folder+\"/Models/\"+riskname+\" .Rdata\")\n",
    "    best_model_cvcomp=ro.globalenv['best_model']\n",
    "    #os.chdir(main_folder)\n",
    "    #ro.r('load(best_model,file=paste(location,\".Rdata\"))')\n",
    "    #testdata=pd.read_csv(main_folder+\"/Val_Cohort/test_cohort_\"+riskname+\".csv\")\n",
    "    devdata=pd.read_csv(main_folder+\"/Val_Cohort/test_cohort_\"+riskname+\".csv\")\n",
    "    ro.globalenv['r_df_cvcomp'] = pandas2ri.py2ri(devdata)\n",
    "    r_df_cvcomp=ro.r('r_df_cvcomp')\n",
    "    pred_score_cvcomp=statsf.predict(best_model_cvcomp,r_df_cvcomp, type=\"response\")\n",
    "    devdata.rename(columns={'outcome':riskname}, inplace=True)\n",
    "    devdata[riskname]=pred_score_cvcomp\n",
    "    devdata=devdata[[\"encounter_deiden_id\",riskname]]\n",
    "    df=pd.merge(df,devdata,on=\"encounter_deiden_id\",how=\"outer\")\n",
    "df_val=df[pd.notnull(df[\"MV_duration\"])]\n",
    "    "
   ]
  },
  {
   "cell_type": "code",
   "execution_count": 31,
   "metadata": {
    "collapsed": true
   },
   "outputs": [],
   "source": [
    "df_val_ESRD=df_val[pd.isnull(df_val[\"aki_all\"])]\n",
    "df_val_NotESRD=df_val[pd.notnull(df_val[\"aki_all\"])]"
   ]
  },
  {
   "cell_type": "code",
   "execution_count": 25,
   "metadata": {
    "collapsed": true
   },
   "outputs": [],
   "source": [
    "from sklearn.ensemble import RandomForestClassifier as RFC\n",
    "from sklearn.model_selection  import GridSearchCV \n",
    "from sklearn.externals import joblib"
   ]
  },
  {
   "cell_type": "code",
   "execution_count": 26,
   "metadata": {
    "collapsed": false
   },
   "outputs": [],
   "source": [
    "os.chdir(main_folder+\"/M_Models\")"
   ]
  },
  {
   "cell_type": "code",
   "execution_count": 34,
   "metadata": {
    "collapsed": true
   },
   "outputs": [],
   "source": [
    "l=['cardiovasc_comp_comb','ICU_duration','neuro_delirium_comb','post_op_mech_proc_comb','sepsis_comb',\n",
    "                'venos_throm_comb','aki_all','MV_duration']"
   ]
  },
  {
   "cell_type": "code",
   "execution_count": 28,
   "metadata": {
    "collapsed": true
   },
   "outputs": [],
   "source": [
    "ll=['mort_status_30d',\n",
    " 'mort_status_90d',\n",
    " 'mort_status_6m',\n",
    " 'mort_status_1y',\n",
    " 'mort_status_2y']"
   ]
  },
  {
   "cell_type": "code",
   "execution_count": 29,
   "metadata": {
    "collapsed": false
   },
   "outputs": [],
   "source": [
    "os.chdir(main_folder+\"/M_Models\")\n",
    "mort_status_30d_model=joblib.load('mort_status_30d_ESRD_RandomForestClassifier.pkl')\n",
    "mort_status_90d_model=joblib.load('mort_status_90d_ESRD_RandomForestClassifier.pkl')\n",
    "mort_status_6m_model=joblib.load('mort_status_6m_ESRD_RandomForestClassifier.pkl')\n",
    "mort_status_1y_model=joblib.load('mort_status_1y_ESRD_RandomForestClassifier.pkl')\n",
    "mort_status_2y_model=joblib.load('mort_status_2y_ESRD_RandomForestClassifier.pkl')\n",
    "\n",
    "#mort_status_NotESRD=[mort_status_30d_model,mort_status_90d_model,mort_status_6m_model,mort_status_1y_model,mort_status_2y_model]\n",
    "mort_status_ESRD=[mort_status_30d_model,mort_status_90d_model,mort_status_6m_model,mort_status_1y_model,mort_status_2y_model]"
   ]
  },
  {
   "cell_type": "code",
   "execution_count": 20,
   "metadata": {
    "collapsed": false
   },
   "outputs": [
    {
     "name": "stdout",
     "output_type": "stream",
     "text": [
      "0.768237727076\n",
      "0.750213680469\n",
      "0.750418722947\n",
      "0.715704762075\n",
      "0.704016397406\n"
     ]
    }
   ],
   "source": [
    "for x,outcome in zip(mort_status_NotESRD,ll):\n",
    "    #for row in df_val_NotESRD.rows:\n",
    "    e=x.predict_proba(df_val_NotESRD[l])\n",
    "    fpr, tpr, thresholds = metrics.roc_curve(df_val_NotESRD[outcome], e[:,1])\n",
    "    print metrics.auc(fpr, tpr)\n",
    "    #print(df_val_NotESRD[outcome].shape)\n",
    "    #print e"
   ]
  },
  {
   "cell_type": "code",
   "execution_count": 35,
   "metadata": {
    "collapsed": false
   },
   "outputs": [
    {
     "name": "stdout",
     "output_type": "stream",
     "text": [
      "0.724053724054\n",
      "0.648110661269\n",
      "0.73567513702\n",
      "0.671547202797\n",
      "0.65641025641\n"
     ]
    }
   ],
   "source": [
    "for x,outcome in zip(mort_status_ESRD,ll):\n",
    "    #for row in df_val_NotESRD.rows:\n",
    "    e=x.predict_proba(df_val_ESRD[l])\n",
    "    fpr, tpr, thresholds = metrics.roc_curve(df_val_ESRD[outcome], e[:,1])\n",
    "    print metrics.auc(fpr, tpr)\n",
    "    #print(df_val_NotESRD[outcome].shape)\n",
    "    #print e"
   ]
  },
  {
   "cell_type": "code",
   "execution_count": 33,
   "metadata": {
    "collapsed": false
   },
   "outputs": [
    {
     "data": {
      "text/html": [
       "<div>\n",
       "<table border=\"1\" class=\"dataframe\">\n",
       "  <thead>\n",
       "    <tr style=\"text-align: right;\">\n",
       "      <th></th>\n",
       "      <th>encounter_deiden_id</th>\n",
       "      <th>admission_to_death_time</th>\n",
       "      <th>mort_status_30d</th>\n",
       "      <th>mort_status_90d</th>\n",
       "      <th>mort_status_6m</th>\n",
       "      <th>mort_status_1y</th>\n",
       "      <th>mort_status_2y</th>\n",
       "      <th>aki_all</th>\n",
       "      <th>MV_duration</th>\n",
       "      <th>cardiovasc_comp_comb</th>\n",
       "      <th>ICU_duration</th>\n",
       "      <th>neuro_delirium_comb</th>\n",
       "      <th>post_op_mech_proc_comb</th>\n",
       "      <th>sepsis_comb</th>\n",
       "      <th>venos_throm_comb</th>\n",
       "    </tr>\n",
       "  </thead>\n",
       "  <tbody>\n",
       "    <tr>\n",
       "      <th>211</th>\n",
       "      <td>2426_42</td>\n",
       "      <td>NaN</td>\n",
       "      <td>0</td>\n",
       "      <td>0</td>\n",
       "      <td>0</td>\n",
       "      <td>0</td>\n",
       "      <td>0</td>\n",
       "      <td>NaN</td>\n",
       "      <td>0.018213</td>\n",
       "      <td>0.244199</td>\n",
       "      <td>0.097938</td>\n",
       "      <td>0.040216</td>\n",
       "      <td>0.432602</td>\n",
       "      <td>0.022200</td>\n",
       "      <td>0.038288</td>\n",
       "    </tr>\n",
       "    <tr>\n",
       "      <th>338</th>\n",
       "      <td>3756_157</td>\n",
       "      <td>NaN</td>\n",
       "      <td>0</td>\n",
       "      <td>0</td>\n",
       "      <td>0</td>\n",
       "      <td>0</td>\n",
       "      <td>0</td>\n",
       "      <td>NaN</td>\n",
       "      <td>0.038886</td>\n",
       "      <td>0.259018</td>\n",
       "      <td>0.112967</td>\n",
       "      <td>0.092189</td>\n",
       "      <td>0.246366</td>\n",
       "      <td>0.205483</td>\n",
       "      <td>0.327915</td>\n",
       "    </tr>\n",
       "    <tr>\n",
       "      <th>512</th>\n",
       "      <td>5449_76</td>\n",
       "      <td>NaN</td>\n",
       "      <td>0</td>\n",
       "      <td>0</td>\n",
       "      <td>0</td>\n",
       "      <td>0</td>\n",
       "      <td>0</td>\n",
       "      <td>NaN</td>\n",
       "      <td>0.047455</td>\n",
       "      <td>0.383750</td>\n",
       "      <td>0.140717</td>\n",
       "      <td>0.137164</td>\n",
       "      <td>0.181323</td>\n",
       "      <td>0.120185</td>\n",
       "      <td>0.069853</td>\n",
       "    </tr>\n",
       "    <tr>\n",
       "      <th>652</th>\n",
       "      <td>6977_41</td>\n",
       "      <td>0.717187</td>\n",
       "      <td>0</td>\n",
       "      <td>0</td>\n",
       "      <td>0</td>\n",
       "      <td>1</td>\n",
       "      <td>1</td>\n",
       "      <td>NaN</td>\n",
       "      <td>0.013902</td>\n",
       "      <td>0.238914</td>\n",
       "      <td>0.139913</td>\n",
       "      <td>0.050708</td>\n",
       "      <td>0.228943</td>\n",
       "      <td>0.132273</td>\n",
       "      <td>0.162077</td>\n",
       "    </tr>\n",
       "    <tr>\n",
       "      <th>673</th>\n",
       "      <td>7177_142</td>\n",
       "      <td>NaN</td>\n",
       "      <td>0</td>\n",
       "      <td>0</td>\n",
       "      <td>0</td>\n",
       "      <td>0</td>\n",
       "      <td>0</td>\n",
       "      <td>NaN</td>\n",
       "      <td>0.023407</td>\n",
       "      <td>0.138168</td>\n",
       "      <td>0.243137</td>\n",
       "      <td>0.026515</td>\n",
       "      <td>0.169743</td>\n",
       "      <td>0.054274</td>\n",
       "      <td>0.021766</td>\n",
       "    </tr>\n",
       "  </tbody>\n",
       "</table>\n",
       "</div>"
      ],
      "text/plain": [
       "    encounter_deiden_id  admission_to_death_time  mort_status_30d  \\\n",
       "211             2426_42                      NaN                0   \n",
       "338            3756_157                      NaN                0   \n",
       "512             5449_76                      NaN                0   \n",
       "652             6977_41                 0.717187                0   \n",
       "673            7177_142                      NaN                0   \n",
       "\n",
       "     mort_status_90d  mort_status_6m  mort_status_1y  mort_status_2y  aki_all  \\\n",
       "211                0               0               0               0      NaN   \n",
       "338                0               0               0               0      NaN   \n",
       "512                0               0               0               0      NaN   \n",
       "652                0               0               1               1      NaN   \n",
       "673                0               0               0               0      NaN   \n",
       "\n",
       "     MV_duration  cardiovasc_comp_comb  ICU_duration  neuro_delirium_comb  \\\n",
       "211     0.018213              0.244199      0.097938             0.040216   \n",
       "338     0.038886              0.259018      0.112967             0.092189   \n",
       "512     0.047455              0.383750      0.140717             0.137164   \n",
       "652     0.013902              0.238914      0.139913             0.050708   \n",
       "673     0.023407              0.138168      0.243137             0.026515   \n",
       "\n",
       "     post_op_mech_proc_comb  sepsis_comb  venos_throm_comb  \n",
       "211                0.432602     0.022200          0.038288  \n",
       "338                0.246366     0.205483          0.327915  \n",
       "512                0.181323     0.120185          0.069853  \n",
       "652                0.228943     0.132273          0.162077  \n",
       "673                0.169743     0.054274          0.021766  "
      ]
     },
     "execution_count": 33,
     "metadata": {},
     "output_type": "execute_result"
    }
   ],
   "source": [
    "df_val_ESRD.head()"
   ]
  },
  {
   "cell_type": "code",
   "execution_count": null,
   "metadata": {
    "collapsed": true
   },
   "outputs": [],
   "source": []
  }
 ],
 "metadata": {
  "kernelspec": {
   "display_name": "Python 2",
   "language": "python",
   "name": "python2"
  },
  "language_info": {
   "codemirror_mode": {
    "name": "ipython",
    "version": 2
   },
   "file_extension": ".py",
   "mimetype": "text/x-python",
   "name": "python",
   "nbconvert_exporter": "python",
   "pygments_lexer": "ipython2",
   "version": "2.7.13"
  }
 },
 "nbformat": 4,
 "nbformat_minor": 2
}
