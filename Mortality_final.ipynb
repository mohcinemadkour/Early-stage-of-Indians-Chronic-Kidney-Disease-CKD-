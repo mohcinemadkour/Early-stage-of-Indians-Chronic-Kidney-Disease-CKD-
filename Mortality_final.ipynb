{
 "cells": [
  {
   "cell_type": "code",
   "execution_count": 1,
   "metadata": {
    "collapsed": true
   },
   "outputs": [],
   "source": [
    "import pandas as pd\n",
    "from datetime import timedelta\n",
    "import pandas as pd\n",
    "import numpy as np\n",
    "from rpy2.robjects import pandas2ri\n",
    "import rpy2.robjects as ro\n",
    "from rpy2.robjects.packages import importr\n",
    "from scipy.stats import f\n",
    "from sklearn import metrics\n",
    "from sklearn.model_selection import KFold\n",
    "import rpy2\n",
    "import numpy as np\n",
    "\n",
    "import os\n",
    "os.chdir(os.getcwd()+\"/../..\")\n",
    "main_folder=os.getcwd()\n",
    "\n",
    "pandas2ri.activate()\n",
    "mgcv = importr('mgcv')\n",
    "VIF=importr('VIF')"
   ]
  },
  {
   "cell_type": "code",
   "execution_count": 2,
   "metadata": {
    "collapsed": true
   },
   "outputs": [],
   "source": [
    "statsf = importr('stats',robject_translations = {'format_perc': 'format_dot_perc'})\n",
    "risknames = [ 'aki_all','MV_duration','cardiovasc_comp_comb', 'ICU_duration', 'neuro_delirium_comb', 'post_op_mech_proc_comb', 'sepsis_comb', 'venos_throm_comb']"
   ]
  },
  {
   "cell_type": "code",
   "execution_count": 20,
   "metadata": {},
   "outputs": [
    {
     "name": "stdout",
     "output_type": "stream",
     "text": [
      "(' mortlaility for', 'aki_all')\n",
      "(' mortlaility for', 'MV_duration')\n",
      "(' mortlaility for', 'cardiovasc_comp_comb')\n",
      "(' mortlaility for', 'ICU_duration')\n",
      "(' mortlaility for', 'neuro_delirium_comb')\n",
      "(' mortlaility for', 'post_op_mech_proc_comb')\n",
      "(' mortlaility for', 'sepsis_comb')\n",
      "(' mortlaility for', 'venos_throm_comb')\n"
     ]
    }
   ],
   "source": [
    "df=pd.read_csv(main_folder+\"/Supplement data/mortality_12_12_17.csv\")\n",
    "for riskname in risknames:\n",
    "    print (\" mortlaility for\", riskname)\n",
    "    #os.chdir(main_folder+\"/Models/\"+riskname+\" .Rdata\")\n",
    "    ro.globalenv['riskname']=riskname\n",
    "    ro.globalenv['main_folder']=main_folder\n",
    "    ro.r['load'](main_folder+\"/Models/\"+riskname+\" .Rdata\")\n",
    "    best_model_cvcomp=ro.globalenv['best_model']\n",
    "    #os.chdir(main_folder)\n",
    "    #ro.r('load(best_model,file=paste(location,\".Rdata\"))')\n",
    "    #testdata=pd.read_csv(main_folder+\"/Val_Cohort/test_cohort_\"+riskname+\".csv\")\n",
    "    devdata=pd.read_csv(main_folder+\"/Dev_Cohort/development_cohort_\"+riskname+\".csv\")\n",
    "    ro.globalenv['r_df_cvcomp'] = pandas2ri.py2ri(devdata)\n",
    "    r_df_cvcomp=ro.r('r_df_cvcomp')\n",
    "    pred_score_cvcomp=statsf.predict(best_model_cvcomp,r_df_cvcomp, type=\"response\")\n",
    "    devdata.rename(columns={'outcome':riskname}, inplace=True)\n",
    "    devdata[riskname]=pred_score_cvcomp\n",
    "    devdata=devdata[[\"encounter_deiden_id\",riskname]]\n",
    "    df=pd.merge(df,devdata,on=\"encounter_deiden_id\",how=\"outer\")\n",
    "df_train=df[pd.notnull(df[\"MV_duration\"])]\n",
    "    "
   ]
  },
  {
   "cell_type": "code",
   "execution_count": 21,
   "metadata": {},
   "outputs": [
    {
     "name": "stdout",
     "output_type": "stream",
     "text": [
      "(' mortlaility for', 'aki_all')\n",
      "(' mortlaility for', 'MV_duration')\n",
      "(' mortlaility for', 'cardiovasc_comp_comb')\n",
      "(' mortlaility for', 'ICU_duration')\n",
      "(' mortlaility for', 'neuro_delirium_comb')\n",
      "(' mortlaility for', 'post_op_mech_proc_comb')\n",
      "(' mortlaility for', 'sepsis_comb')\n",
      "(' mortlaility for', 'venos_throm_comb')\n"
     ]
    }
   ],
   "source": [
    "df=pd.read_csv(main_folder+\"/Supplement data/mortality_12_12_17.csv\")\n",
    "for riskname in risknames:\n",
    "    print (\" mortlaility for\", riskname)\n",
    "    #os.chdir(main_folder+\"/Models/\"+riskname+\" .Rdata\")\n",
    "    ro.globalenv['riskname']=riskname\n",
    "    ro.globalenv['main_folder']=main_folder\n",
    "    ro.r['load'](main_folder+\"/Models/\"+riskname+\" .Rdata\")\n",
    "    best_model_cvcomp=ro.globalenv['best_model']\n",
    "    #os.chdir(main_folder)\n",
    "    #ro.r('load(best_model,file=paste(location,\".Rdata\"))')\n",
    "    #testdata=pd.read_csv(main_folder+\"/Val_Cohort/test_cohort_\"+riskname+\".csv\")\n",
    "    devdata=pd.read_csv(main_folder+\"/Val_Cohort/test_cohort_\"+riskname+\".csv\")\n",
    "    ro.globalenv['r_df_cvcomp'] = pandas2ri.py2ri(devdata)\n",
    "    r_df_cvcomp=ro.r('r_df_cvcomp')\n",
    "    pred_score_cvcomp=statsf.predict(best_model_cvcomp,r_df_cvcomp, type=\"response\")\n",
    "    devdata.rename(columns={'outcome':riskname}, inplace=True)\n",
    "    devdata[riskname]=pred_score_cvcomp\n",
    "    devdata=devdata[[\"encounter_deiden_id\",riskname]]\n",
    "    df=pd.merge(df,devdata,on=\"encounter_deiden_id\",how=\"outer\")\n",
    "df_val=df[pd.notnull(df[\"MV_duration\"])]\n",
    "    "
   ]
  },
  {
   "cell_type": "code",
   "execution_count": 25,
   "metadata": {
    "scrolled": false
   },
   "outputs": [
    {
     "data": {
      "text/plain": [
       "(13572, 15)"
      ]
     },
     "execution_count": 25,
     "metadata": {},
     "output_type": "execute_result"
    }
   ],
   "source": [
    "df_val.shape\n",
    "df_train.shape\n"
   ]
  },
  {
   "cell_type": "code",
   "execution_count": 51,
   "metadata": {
    "collapsed": true
   },
   "outputs": [],
   "source": [
    "df_train_ESRD=df_train[pd.isnull(df_train[\"aki_all\"])]\n",
    "df_train_NotESRD=df_train[pd.notnull(df_train[\"aki_all\"])]\n",
    "df_val_ESRD=df_val[pd.isnull(df_val[\"aki_all\"])]\n",
    "df_val_NotESRD=df_val[pd.notnull(df_val[\"aki_all\"])]"
   ]
  },
  {
   "cell_type": "code",
   "execution_count": 27,
   "metadata": {
    "collapsed": true
   },
   "outputs": [],
   "source": [
    "from sklearn.ensemble import RandomForestClassifier as RFC\n",
    "from sklearn.model_selection  import GridSearchCV \n",
    "from sklearn.externals import joblib"
   ]
  },
  {
   "cell_type": "code",
   "execution_count": 90,
   "metadata": {
    "collapsed": true
   },
   "outputs": [],
   "source": [
    "def run_rf_model(data, colnames): \n",
    "    Kfold_value=5 #number of folds\n",
    "    data=data[pd.notnull(data).all(axis=1)]\n",
    "    features =data[data.columns.difference([colnames])]\n",
    "    print(\"Running Random_Forest_Classifire\")\n",
    "    clf=RFC(n_jobs=2)\n",
    "    param_grid={\"n_estimators\"      : [100, 300, 500], #tuning the random forest with these parameters\n",
    "                \"criterion\"         : [\"gini\", \"entropy\"],\n",
    "                'max_features': [ 'sqrt', None, 5, 6, 7],\n",
    "                \"max_depth\"         : [None ,10, 20]}\n",
    "    grid_search = GridSearchCV(clf, param_grid, scoring='roc_auc',n_jobs=2, cv=Kfold_value) #acu metric used to find the best model\n",
    "    grid_search.fit(features, data[colnames])\n",
    "    model=grid_search.best_estimator_\n",
    "    acu=grid_search.best_score_\n",
    "    return model,acu"
   ]
  },
  {
   "cell_type": "code",
   "execution_count": 94,
   "metadata": {},
   "outputs": [
    {
     "name": "stdout",
     "output_type": "stream",
     "text": [
      "Running Random_Forest_Classifire\n",
      "acu for mort_status_30d is: 0.847397937137\n",
      "Running Random_Forest_Classifire\n",
      "acu for mort_status_90d is: 0.750654504957\n",
      "Running Random_Forest_Classifire\n",
      "acu for mort_status_6m is: 0.721169037952\n",
      "Running Random_Forest_Classifire\n",
      "acu for mort_status_1y is: 0.712248020801\n",
      "Running Random_Forest_Classifire\n",
      "acu for mort_status_2y is: 0.642972987375\n"
     ]
    }
   ],
   "source": [
    "models=[\"mort_status_30d\",\"mort_status_90d\",\"mort_status_6m\",\"mort_status_1y\",\"mort_status_2y\"]\n",
    "feature_names= ['cardiovasc_comp_comb','ICU_duration','neuro_delirium_comb','post_op_mech_proc_comb','sepsis_comb',\n",
    "                'venos_throm_comb','MV_duration']\n",
    "\n",
    "for model in models:\n",
    "    mdl,acu=run_rf_model(df_train_ESRD[feature_names+[model]],model)\n",
    "    print(\"acu for \"+model+' is: '+str(acu))\n",
    "    joblib.dump(mdl, main_folder+'/M_Models/'+model+'_ESRD_RandomForestClassifier.pkl')"
   ]
  },
  {
   "cell_type": "code",
   "execution_count": 93,
   "metadata": {},
   "outputs": [
    {
     "name": "stdout",
     "output_type": "stream",
     "text": [
      "Running Random_Forest_Classifire\n",
      "acu for mort_status_30d is: 0.842831295936\n",
      "Running Random_Forest_Classifire\n",
      "acu for mort_status_90d is: 0.835359418125\n",
      "Running Random_Forest_Classifire\n",
      "acu for mort_status_6m is: 0.827287000159\n",
      "Running Random_Forest_Classifire\n",
      "acu for mort_status_1y is: 0.810304522809\n",
      "Running Random_Forest_Classifire\n",
      "acu for mort_status_2y is: 0.788904446298\n"
     ]
    }
   ],
   "source": [
    "models=[\"mort_status_30d\",\"mort_status_90d\",\"mort_status_6m\",\"mort_status_1y\",\"mort_status_2y\"]\n",
    "feature_names= ['cardiovasc_comp_comb','ICU_duration','neuro_delirium_comb','post_op_mech_proc_comb','sepsis_comb',\n",
    "                'venos_throm_comb','aki_all','MV_duration']\n",
    "\n",
    "for model in models:\n",
    "    mdl,acu=run_rf_model(df_train_NotESRD[feature_names+[model]],model)\n",
    "    print(\"acu for \"+model+' is: '+str(acu))\n",
    "    joblib.dump(mdl, main_folder+'/M_Models/'+model+'_NotESRD_RandomForestClassifier.pkl')"
   ]
  },
  {
   "cell_type": "code",
   "execution_count": 29,
   "metadata": {
    "collapsed": true
   },
   "outputs": [],
   "source": [
    "def find_auc(model,data):\n",
    "    ro.globalenv['model']=model\n",
    "    ro.globalenv['test']=data\n",
    "    e=ro.r(\"predict(model,newdata=test,type=\\\"response\\\")\")\n",
    "    \n",
    "    fpr, tpr, thresholds = metrics.roc_curve(data['outcome'], e)\n",
    "    return metrics.auc(fpr, tpr)"
   ]
  },
  {
   "cell_type": "code",
   "execution_count": 30,
   "metadata": {
    "collapsed": true
   },
   "outputs": [],
   "source": [
    "os.chdir(main_folder+\"/M_Models\")"
   ]
  },
  {
   "cell_type": "code",
   "execution_count": 41,
   "metadata": {
    "collapsed": true
   },
   "outputs": [],
   "source": [
    "l=['cardiovasc_comp_comb','ICU_duration','neuro_delirium_comb','post_op_mech_proc_comb','sepsis_comb',\n",
    "                'venos_throm_comb','aki_all','MV_duration']"
   ]
  },
  {
   "cell_type": "code",
   "execution_count": 59,
   "metadata": {
    "collapsed": true
   },
   "outputs": [],
   "source": [
    "ll=['mort_status_30d',\n",
    " 'mort_status_90d',\n",
    " 'mort_status_6m',\n",
    " 'mort_status_1y',\n",
    " 'mort_status_2y']"
   ]
  },
  {
   "cell_type": "code",
   "execution_count": 55,
   "metadata": {},
   "outputs": [
    {
     "data": {
      "text/plain": [
       "cardiovasc_comp_comb      False\n",
       "ICU_duration              False\n",
       "neuro_delirium_comb       False\n",
       "post_op_mech_proc_comb    False\n",
       "sepsis_comb               False\n",
       "venos_throm_comb          False\n",
       "aki_all                   False\n",
       "MV_duration               False\n",
       "dtype: bool"
      ]
     },
     "execution_count": 55,
     "metadata": {},
     "output_type": "execute_result"
    }
   ],
   "source": [
    "df_val_NotESRD[l].isnull().any()"
   ]
  },
  {
   "cell_type": "code",
   "execution_count": 86,
   "metadata": {},
   "outputs": [
    {
     "name": "stdout",
     "output_type": "stream",
     "text": [
      "0.5\n",
      "0.499812453113\n",
      "0.501506024096\n",
      "0.50295398565\n",
      "0.512333563006\n"
     ]
    }
   ],
   "source": [
    "for x,outcome in zip(mort_status_NotESRD,ll):\n",
    "    #for row in df_val_NotESRD.rows:\n",
    "    e=x.predict(df_val_NotESRD[l])\n",
    "    fpr, tpr, thresholds = metrics.roc_curve(df_val_NotESRD[outcome], e)\n",
    "    print metrics.auc(fpr, tpr)\n",
    "    #print(df_val_NotESRD[outcome].shape)\n",
    "    #print e"
   ]
  },
  {
   "cell_type": "code",
   "execution_count": 84,
   "metadata": {},
   "outputs": [
    {
     "data": {
      "text/plain": [
       "0.0062769010043041609"
      ]
     },
     "execution_count": 84,
     "metadata": {},
     "output_type": "execute_result"
    }
   ],
   "source": [
    "np.mean(e)"
   ]
  },
  {
   "cell_type": "code",
   "execution_count": 79,
   "metadata": {},
   "outputs": [
    {
     "name": "stdout",
     "output_type": "stream",
     "text": [
      "[ 0.92333333  0.07666667]\n"
     ]
    }
   ],
   "source": [
    "print e[0]"
   ]
  },
  {
   "cell_type": "code",
   "execution_count": 35,
   "metadata": {},
   "outputs": [
    {
     "name": "stdout",
     "output_type": "stream",
     "text": [
      "encounter_deiden_id encounter_deiden_id\n",
      "admission_to_death_time admission_to_death_time\n",
      "mort_status_30d mort_status_30d\n",
      "mort_status_90d mort_status_90d\n",
      "mort_status_6m mort_status_6m\n",
      "mort_status_1y mort_status_1y\n",
      "mort_status_2y mort_status_2y\n",
      "aki_all aki_all\n",
      "MV_duration MV_duration\n",
      "cardiovasc_comp_comb cardiovasc_comp_comb\n",
      "ICU_duration ICU_duration\n",
      "neuro_delirium_comb neuro_delirium_comb\n",
      "post_op_mech_proc_comb post_op_mech_proc_comb\n",
      "sepsis_comb sepsis_comb\n",
      "venos_throm_comb venos_throm_comb\n"
     ]
    }
   ],
   "source": [
    "for x,outcome in zip(list(df_train),list(df_train)):\n",
    "    print x,outcome"
   ]
  },
  {
   "cell_type": "code",
   "execution_count": null,
   "metadata": {
    "collapsed": true
   },
   "outputs": [],
   "source": [
    "for y in mort_status_ESRD:\n",
    "    print (\"Gam for\", riskname)\n",
    "    print \"AUC for \"+y+\": \",find_auc(y,df_val)"
   ]
  },
  {
   "cell_type": "code",
   "execution_count": null,
   "metadata": {
    "collapsed": true
   },
   "outputs": [],
   "source": [
    "def find_auc(model,data):\n",
    "    e=model.predict_proba(data)\n",
    "    fpr, tpr, thresholds = metrics.roc_curve(data['outcome'], e)\n",
    "    print metrics.auc(fpr, tpr)\n"
   ]
  }
 ],
 "metadata": {
  "kernelspec": {
   "display_name": "Python 2",
   "language": "python",
   "name": "python2"
  },
  "language_info": {
   "codemirror_mode": {
    "name": "ipython",
    "version": 2
   },
   "file_extension": ".py",
   "mimetype": "text/x-python",
   "name": "python",
   "nbconvert_exporter": "python",
   "pygments_lexer": "ipython2",
   "version": "2.7.14"
  }
 },
 "nbformat": 4,
 "nbformat_minor": 2
}
